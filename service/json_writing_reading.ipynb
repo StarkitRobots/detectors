{
 "cells": [
  {
   "cell_type": "code",
   "execution_count": 1,
   "metadata": {},
   "outputs": [],
   "source": [
    "import json\n",
    "\n",
    "data = {}\n",
    "data['filters'] = []\n",
    "\n",
    "data['filters'].append({\n",
    "    'name': 'inrange',\n",
    "    'long_name' : 'in range',\n",
    "    'l1': '57',\n",
    "    'l2': '150',\n",
    "    'l3': '110',\n",
    "    'h1': '67',\n",
    "    'h2': '160',\n",
    "    'h3': '120'\n",
    "})\n",
    "\n",
    "data['filters'].append({\n",
    "    'name': 'max_area_cc_bbox',\n",
    "    'long_name' : 'maximal area connected component bounding box extraction',\n",
    "})\n",
    "\n",
    "data['filters'].append({\n",
    "    'name': 'bottom_bbox_point',\n",
    "    'long_name' : 'bottom middle-x bounding box point',\n",
    "})\n",
    "\n",
    "with open('basket_detector.txt', 'w') as outfile:\n",
    "    json.dump(data, outfile, indent=4)"
   ]
  },
  {
   "cell_type": "code",
   "execution_count": 2,
   "metadata": {},
   "outputs": [
    {
     "name": "stdout",
     "output_type": "stream",
     "text": [
      "inrange\n",
      "max_area_cc_bbox\n",
      "bottom_bbox_point\n"
     ]
    }
   ],
   "source": [
    "import json\n",
    "with open('basket_detector.txt') as f:\n",
    "    data = json.load(f)\n",
    "\n",
    "for a in data [\"filters\"]:\n",
    "    print (a [\"name\"])"
   ]
  },
  {
   "cell_type": "code",
   "execution_count": null,
   "metadata": {},
   "outputs": [],
   "source": []
  },
  {
   "cell_type": "code",
   "execution_count": 3,
   "metadata": {},
   "outputs": [],
   "source": [
    "import cv2\n",
    "import numpy as np\n",
    "from matplotlib import pyplot as plt\n",
    "\n",
    "def nothing(x):\n",
    "    pass\n",
    "\n",
    "cv2.namedWindow('Colorbars')\n",
    "hh='Max'\n",
    "hl='Min'\n",
    "wnd = 'Colorbars'\n",
    "\n",
    "cv2.createTrackbar(\"Max\", \"Colorbars\",0,255,nothing)\n",
    "cv2.createTrackbar(\"Min\", \"Colorbars\",0,255,nothing)\n",
    "\n",
    "img = cv2.imread('images/basket/3.jpg',0)\n",
    "img = cv2.resize(img, (0,0), fx=0.5, fy=0.5)\n",
    "# titles = ['Original Image','BINARY','BINARY_INV','TRUNC','TOZERO','TOZERO_INV']\n",
    "# images = [img, thresh1, thresh2, thresh3, thresh4, thresh5]\n",
    "# for i in xrange(6):\n",
    "#     plt.subplot(2,3,i+1),plt.imshow(images[i],'gray')\n",
    "#     plt.title(titles[i])\n",
    "#     plt.xticks([]),plt.yticks([])\n",
    "# plt.show()\n",
    "\n",
    "while(1):\n",
    "    hul=cv2.getTrackbarPos(\"Max\", \"Colorbars\")\n",
    "    huh=cv2.getTrackbarPos(\"Min\", \"Colorbars\")\n",
    "    ret,thresh1 = cv2.threshold(img,hul,huh,cv2.THRESH_BINARY)\n",
    "\n",
    "    cv2.imshow(\"thresh1\",thresh1)\n",
    "    \n",
    "    k = cv2.waitKey(1) & 0xFF\n",
    "    if k == ord('m'):\n",
    "        mode = not mode\n",
    "    elif k == 27:\n",
    "        break\n",
    "\n",
    "cv2.destroyAllWindows()"
   ]
  },
  {
   "cell_type": "code",
   "execution_count": null,
   "metadata": {},
   "outputs": [],
   "source": []
  }
 ],
 "metadata": {
  "kernelspec": {
   "display_name": "Python 3",
   "language": "python",
   "name": "python3"
  },
  "language_info": {
   "codemirror_mode": {
    "name": "ipython",
    "version": 3
   },
   "file_extension": ".py",
   "mimetype": "text/x-python",
   "name": "python",
   "nbconvert_exporter": "python",
   "pygments_lexer": "ipython3",
   "version": "3.7.3"
  }
 },
 "nbformat": 4,
 "nbformat_minor": 2
}
