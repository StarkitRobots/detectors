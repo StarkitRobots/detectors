{
 "cells": [
  {
   "cell_type": "code",
   "execution_count": 1,
   "metadata": {},
   "outputs": [],
   "source": [
    "import json\n",
    "\n",
    "data = {}\n",
    "data['filters'] = []\n",
    "\n",
    "data['filters'].append({\n",
    "    'name': 'inrange',\n",
    "    'long_name' : 'in range',\n",
    "    'l1': '57',\n",
    "    'l2': '150',\n",
    "    'l3': '110',\n",
    "    'h1': '67',\n",
    "    'h2': '160',\n",
    "    'h3': '120'\n",
    "})\n",
    "\n",
    "data['filters'].append({\n",
    "    'name': 'max_area_cc_bbox',\n",
    "    'long_name' : 'maximal area connected component bounding box extraction',\n",
    "})\n",
    "\n",
    "data['filters'].append({\n",
    "    'name': 'bottom_bbox_point',\n",
    "    'long_name' : 'bottom middle-x bounding box point',\n",
    "})\n",
    "\n",
    "with open('basket_detector.txt', 'w') as outfile:\n",
    "    json.dump(data, outfile, indent=4)"
   ]
  },
  {
   "cell_type": "code",
   "execution_count": 2,
   "metadata": {},
   "outputs": [
    {
     "name": "stdout",
     "output_type": "stream",
     "text": [
      "inrange\n",
      "max_area_cc_bbox\n",
      "bottom_bbox_point\n"
     ]
    }
   ],
   "source": [
    "import json\n",
    "with open('basket_detector.txt') as f:\n",
    "    data = json.load(f)\n",
    "\n",
    "for a in data [\"filters\"]:\n",
    "    print (a [\"name\"])"
   ]
  },
  {
   "cell_type": "code",
   "execution_count": null,
   "metadata": {},
   "outputs": [],
   "source": []
  },
  {
   "cell_type": "code",
   "execution_count": 3,
   "metadata": {},
   "outputs": [],
   "source": [
    "import cv2\n",
    "import numpy as np\n",
    "from matplotlib import pyplot as plt\n",
    "\n",
    "def nothing(x):\n",
    "    pass\n",
    "\n",
    "cv2.namedWindow('Colorbars')\n",
    "hh='Max'\n",
    "hl='Min'\n",
    "wnd = 'Colorbars'\n",
    "\n",
    "cv2.createTrackbar(\"Max\", \"Colorbars\",0,255,nothing)\n",
    "cv2.createTrackbar(\"Min\", \"Colorbars\",0,255,nothing)\n",
    "\n",
    "img = cv2.imread('images/basket/3.jpg',0)\n",
    "img = cv2.resize(img, (0,0), fx=0.5, fy=0.5)\n",
    "# titles = ['Original Image','BINARY','BINARY_INV','TRUNC','TOZERO','TOZERO_INV']\n",
    "# images = [img, thresh1, thresh2, thresh3, thresh4, thresh5]\n",
    "# for i in xrange(6):\n",
    "#     plt.subplot(2,3,i+1),plt.imshow(images[i],'gray')\n",
    "#     plt.title(titles[i])\n",
    "#     plt.xticks([]),plt.yticks([])\n",
    "# plt.show()\n",
    "\n",
    "while(1):\n",
    "    hul=cv2.getTrackbarPos(\"Max\", \"Colorbars\")\n",
    "    huh=cv2.getTrackbarPos(\"Min\", \"Colorbars\")\n",
    "    ret,thresh1 = cv2.threshold(img,hul,huh,cv2.THRESH_BINARY)\n",
    "\n",
    "    cv2.imshow(\"thresh1\",thresh1)\n",
    "    \n",
    "    k = cv2.waitKey(1) & 0xFF\n",
    "    if k == ord('m'):\n",
    "        mode = not mode\n",
    "    elif k == 27:\n",
    "        break\n",
    "\n",
    "cv2.destroyAllWindows()"
   ]
  },
  {
   "cell_type": "code",
   "execution_count": 11,
   "metadata": {},
   "outputs": [
    {
     "name": "stdout",
     "output_type": "stream",
     "text": [
      "[PosixPath('/Users/elijah/Dropbox/Programming/detectors/images/2019_08_11_08h11m07s/0000.png'), PosixPath('/Users/elijah/Dropbox/Programming/detectors/images/2019_08_11_08h11m07s/00001.png'), PosixPath('/Users/elijah/Dropbox/Programming/detectors/images/2019_08_11_08h11m07s/00002.png'), PosixPath('/Users/elijah/Dropbox/Programming/detectors/images/2019_08_11_08h11m07s/00003.png'), PosixPath('/Users/elijah/Dropbox/Programming/detectors/images/2019_08_11_08h11m07s/00004.png'), PosixPath('/Users/elijah/Dropbox/Programming/detectors/images/2019_08_11_08h11m07s/00005.png'), PosixPath('/Users/elijah/Dropbox/Programming/detectors/images/2019_08_11_08h11m07s/00006.png'), PosixPath('/Users/elijah/Dropbox/Programming/detectors/images/2019_08_11_08h11m07s/00007.png'), PosixPath('/Users/elijah/Dropbox/Programming/detectors/images/2019_08_11_08h11m07s/00008.png'), PosixPath('/Users/elijah/Dropbox/Programming/detectors/images/2019_08_11_08h11m07s/00009.png'), PosixPath('/Users/elijah/Dropbox/Programming/detectors/images/2019_08_11_08h11m07s/00010.png'), PosixPath('/Users/elijah/Dropbox/Programming/detectors/images/2019_08_11_08h11m07s/00011.png'), PosixPath('/Users/elijah/Dropbox/Programming/detectors/images/2019_08_11_08h11m07s/00012.png'), PosixPath('/Users/elijah/Dropbox/Programming/detectors/images/2019_08_11_08h11m07s/00013.png'), PosixPath('/Users/elijah/Dropbox/Programming/detectors/images/2019_08_11_08h11m07s/00014.png'), PosixPath('/Users/elijah/Dropbox/Programming/detectors/images/2019_08_11_08h11m07s/00015.png'), PosixPath('/Users/elijah/Dropbox/Programming/detectors/images/2019_08_11_08h11m07s/00016.png'), PosixPath('/Users/elijah/Dropbox/Programming/detectors/images/2019_08_11_08h11m07s/00017.png'), PosixPath('/Users/elijah/Dropbox/Programming/detectors/images/2019_08_11_08h11m07s/00018.png'), PosixPath('/Users/elijah/Dropbox/Programming/detectors/images/2019_08_11_08h11m07s/00019.png'), PosixPath('/Users/elijah/Dropbox/Programming/detectors/images/2019_08_11_08h11m07s/00020.png'), PosixPath('/Users/elijah/Dropbox/Programming/detectors/images/2019_08_11_08h11m07s/00021.png'), PosixPath('/Users/elijah/Dropbox/Programming/detectors/images/2019_08_11_08h11m07s/00022.png'), PosixPath('/Users/elijah/Dropbox/Programming/detectors/images/2019_08_11_08h11m07s/00023.png'), PosixPath('/Users/elijah/Dropbox/Programming/detectors/images/2019_08_11_08h11m07s/00024.png'), PosixPath('/Users/elijah/Dropbox/Programming/detectors/images/2019_08_11_08h11m07s/00025.png'), PosixPath('/Users/elijah/Dropbox/Programming/detectors/images/2019_08_11_08h11m07s/00026.png'), PosixPath('/Users/elijah/Dropbox/Programming/detectors/images/2019_08_11_08h11m07s/00027.png'), PosixPath('/Users/elijah/Dropbox/Programming/detectors/images/2019_08_11_08h11m07s/00028.png'), PosixPath('/Users/elijah/Dropbox/Programming/detectors/images/2019_08_11_08h11m07s/00029.png'), PosixPath('/Users/elijah/Dropbox/Programming/detectors/images/2019_08_11_08h11m07s/00030.png'), PosixPath('/Users/elijah/Dropbox/Programming/detectors/images/2019_08_11_08h11m07s/00031.png'), PosixPath('/Users/elijah/Dropbox/Programming/detectors/images/2019_08_11_08h11m07s/00032.png'), PosixPath('/Users/elijah/Dropbox/Programming/detectors/images/2019_08_11_08h11m07s/00033.png'), PosixPath('/Users/elijah/Dropbox/Programming/detectors/images/2019_08_11_08h11m07s/00034.png'), PosixPath('/Users/elijah/Dropbox/Programming/detectors/images/2019_08_11_08h11m07s/00035.png'), PosixPath('/Users/elijah/Dropbox/Programming/detectors/images/2019_08_11_08h11m07s/00036.png'), PosixPath('/Users/elijah/Dropbox/Programming/detectors/images/2019_08_11_08h11m07s/00037.png'), PosixPath('/Users/elijah/Dropbox/Programming/detectors/images/2019_08_11_08h11m07s/00038.png'), PosixPath('/Users/elijah/Dropbox/Programming/detectors/images/2019_08_11_08h11m07s/00039.png'), PosixPath('/Users/elijah/Dropbox/Programming/detectors/images/2019_08_11_08h11m07s/00040.png'), PosixPath('/Users/elijah/Dropbox/Programming/detectors/images/2019_08_11_08h11m07s/00041.png'), PosixPath('/Users/elijah/Dropbox/Programming/detectors/images/2019_08_11_08h11m07s/00042.png'), PosixPath('/Users/elijah/Dropbox/Programming/detectors/images/2019_08_11_08h11m07s/00043.png'), PosixPath('/Users/elijah/Dropbox/Programming/detectors/images/2019_08_11_08h11m07s/00044.png'), PosixPath('/Users/elijah/Dropbox/Programming/detectors/images/2019_08_11_08h11m07s/00045.png'), PosixPath('/Users/elijah/Dropbox/Programming/detectors/images/2019_08_11_08h11m07s/00046.png'), PosixPath('/Users/elijah/Dropbox/Programming/detectors/images/2019_08_11_08h11m07s/00047.png'), PosixPath('/Users/elijah/Dropbox/Programming/detectors/images/2019_08_11_08h11m07s/00048.png'), PosixPath('/Users/elijah/Dropbox/Programming/detectors/images/2019_08_11_08h11m07s/00049.png'), PosixPath('/Users/elijah/Dropbox/Programming/detectors/images/2019_08_11_08h11m07s/00050.png'), PosixPath('/Users/elijah/Dropbox/Programming/detectors/images/2019_08_11_08h11m07s/00051.png'), PosixPath('/Users/elijah/Dropbox/Programming/detectors/images/2019_08_11_08h11m07s/00052.png'), PosixPath('/Users/elijah/Dropbox/Programming/detectors/images/2019_08_11_08h11m07s/00053.png'), PosixPath('/Users/elijah/Dropbox/Programming/detectors/images/2019_08_11_08h11m07s/00054.png'), PosixPath('/Users/elijah/Dropbox/Programming/detectors/images/2019_08_11_08h11m07s/00055.png'), PosixPath('/Users/elijah/Dropbox/Programming/detectors/images/2019_08_11_08h11m07s/00056.png'), PosixPath('/Users/elijah/Dropbox/Programming/detectors/images/2019_08_11_08h11m07s/00057.png'), PosixPath('/Users/elijah/Dropbox/Programming/detectors/images/2019_08_11_08h11m07s/00058.png'), PosixPath('/Users/elijah/Dropbox/Programming/detectors/images/2019_08_11_08h11m07s/00059.png'), PosixPath('/Users/elijah/Dropbox/Programming/detectors/images/2019_08_11_08h11m07s/00060.png'), PosixPath('/Users/elijah/Dropbox/Programming/detectors/images/2019_08_11_08h11m07s/00061.png'), PosixPath('/Users/elijah/Dropbox/Programming/detectors/images/2019_08_11_08h11m07s/00062.png'), PosixPath('/Users/elijah/Dropbox/Programming/detectors/images/2019_08_11_08h11m07s/00063.png'), PosixPath('/Users/elijah/Dropbox/Programming/detectors/images/2019_08_11_08h11m07s/00064.png'), PosixPath('/Users/elijah/Dropbox/Programming/detectors/images/2019_08_11_08h11m07s/00065.png'), PosixPath('/Users/elijah/Dropbox/Programming/detectors/images/2019_08_11_08h11m07s/00066.png'), PosixPath('/Users/elijah/Dropbox/Programming/detectors/images/2019_08_11_08h11m07s/00067.png'), PosixPath('/Users/elijah/Dropbox/Programming/detectors/images/2019_08_11_08h11m07s/00068.png'), PosixPath('/Users/elijah/Dropbox/Programming/detectors/images/2019_08_11_08h11m07s/00069.png'), PosixPath('/Users/elijah/Dropbox/Programming/detectors/images/2019_08_11_08h11m07s/00070.png'), PosixPath('/Users/elijah/Dropbox/Programming/detectors/images/2019_08_11_08h11m07s/00071.png'), PosixPath('/Users/elijah/Dropbox/Programming/detectors/images/2019_08_11_08h11m07s/00072.png'), PosixPath('/Users/elijah/Dropbox/Programming/detectors/images/2019_08_11_08h11m07s/00073.png'), PosixPath('/Users/elijah/Dropbox/Programming/detectors/images/2019_08_11_08h11m07s/00074.png'), PosixPath('/Users/elijah/Dropbox/Programming/detectors/images/2019_08_11_08h11m07s/00075.png'), PosixPath('/Users/elijah/Dropbox/Programming/detectors/images/2019_08_11_08h11m07s/00076.png'), PosixPath('/Users/elijah/Dropbox/Programming/detectors/images/2019_08_11_08h11m07s/00077.png'), PosixPath('/Users/elijah/Dropbox/Programming/detectors/images/2019_08_11_08h11m07s/00078.png'), PosixPath('/Users/elijah/Dropbox/Programming/detectors/images/2019_08_11_08h11m07s/00079.png'), PosixPath('/Users/elijah/Dropbox/Programming/detectors/images/2019_08_11_08h11m07s/00080.png'), PosixPath('/Users/elijah/Dropbox/Programming/detectors/images/2019_08_11_08h11m07s/00081.png'), PosixPath('/Users/elijah/Dropbox/Programming/detectors/images/2019_08_11_08h11m07s/00082.png'), PosixPath('/Users/elijah/Dropbox/Programming/detectors/images/2019_08_11_08h11m07s/00083.png'), PosixPath('/Users/elijah/Dropbox/Programming/detectors/images/2019_08_11_08h11m07s/00084.png'), PosixPath('/Users/elijah/Dropbox/Programming/detectors/images/2019_08_11_08h11m07s/00085.png'), PosixPath('/Users/elijah/Dropbox/Programming/detectors/images/2019_08_11_08h11m07s/00086.png'), PosixPath('/Users/elijah/Dropbox/Programming/detectors/images/2019_08_11_08h11m07s/00087.png'), PosixPath('/Users/elijah/Dropbox/Programming/detectors/images/2019_08_11_08h11m07s/00088.png'), PosixPath('/Users/elijah/Dropbox/Programming/detectors/images/2019_08_11_08h11m07s/00089.png'), PosixPath('/Users/elijah/Dropbox/Programming/detectors/images/2019_08_11_08h11m07s/00090.png'), PosixPath('/Users/elijah/Dropbox/Programming/detectors/images/2019_08_11_08h11m07s/00091.png'), PosixPath('/Users/elijah/Dropbox/Programming/detectors/images/2019_08_11_08h11m07s/00092.png'), PosixPath('/Users/elijah/Dropbox/Programming/detectors/images/2019_08_11_08h11m07s/00093.png'), PosixPath('/Users/elijah/Dropbox/Programming/detectors/images/2019_08_11_08h11m07s/00094.png'), PosixPath('/Users/elijah/Dropbox/Programming/detectors/images/2019_08_11_08h11m07s/00095.png'), PosixPath('/Users/elijah/Dropbox/Programming/detectors/images/2019_08_11_08h11m07s/00096.png'), PosixPath('/Users/elijah/Dropbox/Programming/detectors/images/2019_08_11_08h11m07s/00097.png'), PosixPath('/Users/elijah/Dropbox/Programming/detectors/images/2019_08_11_08h11m07s/00098.png'), PosixPath('/Users/elijah/Dropbox/Programming/detectors/images/2019_08_11_08h11m07s/00099.png'), PosixPath('/Users/elijah/Dropbox/Programming/detectors/images/2019_08_11_08h11m07s/00100.png'), PosixPath('/Users/elijah/Dropbox/Programming/detectors/images/2019_08_11_08h11m07s/00101.png'), PosixPath('/Users/elijah/Dropbox/Programming/detectors/images/2019_08_11_08h11m07s/00102.png'), PosixPath('/Users/elijah/Dropbox/Programming/detectors/images/2019_08_11_08h11m07s/00103.png'), PosixPath('/Users/elijah/Dropbox/Programming/detectors/images/2019_08_11_08h11m07s/00104.png'), PosixPath('/Users/elijah/Dropbox/Programming/detectors/images/2019_08_11_08h11m07s/00105.png'), PosixPath('/Users/elijah/Dropbox/Programming/detectors/images/2019_08_11_08h11m07s/00106.png'), PosixPath('/Users/elijah/Dropbox/Programming/detectors/images/2019_08_11_08h11m07s/00107.png'), PosixPath('/Users/elijah/Dropbox/Programming/detectors/images/2019_08_11_08h11m07s/00108.png'), PosixPath('/Users/elijah/Dropbox/Programming/detectors/images/2019_08_11_08h11m07s/00109.png'), PosixPath('/Users/elijah/Dropbox/Programming/detectors/images/2019_08_11_08h11m07s/00110.png'), PosixPath('/Users/elijah/Dropbox/Programming/detectors/images/2019_08_11_08h11m07s/00111.png'), PosixPath('/Users/elijah/Dropbox/Programming/detectors/images/2019_08_11_08h11m07s/00112.png'), PosixPath('/Users/elijah/Dropbox/Programming/detectors/images/2019_08_11_08h11m07s/00113.png'), PosixPath('/Users/elijah/Dropbox/Programming/detectors/images/2019_08_11_08h11m07s/00114.png'), PosixPath('/Users/elijah/Dropbox/Programming/detectors/images/2019_08_11_08h11m07s/00115.png'), PosixPath('/Users/elijah/Dropbox/Programming/detectors/images/2019_08_11_08h11m07s/00116.png'), PosixPath('/Users/elijah/Dropbox/Programming/detectors/images/2019_08_11_08h11m07s/00117.png'), PosixPath('/Users/elijah/Dropbox/Programming/detectors/images/2019_08_11_08h11m07s/00118.png'), PosixPath('/Users/elijah/Dropbox/Programming/detectors/images/2019_08_11_08h11m07s/00119.png'), PosixPath('/Users/elijah/Dropbox/Programming/detectors/images/2019_08_11_08h11m07s/00120.png'), PosixPath('/Users/elijah/Dropbox/Programming/detectors/images/2019_08_11_08h11m07s/00121.png'), PosixPath('/Users/elijah/Dropbox/Programming/detectors/images/2019_08_11_08h11m07s/00122.png'), PosixPath('/Users/elijah/Dropbox/Programming/detectors/images/2019_08_11_08h11m07s/00123.png'), PosixPath('/Users/elijah/Dropbox/Programming/detectors/images/2019_08_11_08h11m07s/00124.png'), PosixPath('/Users/elijah/Dropbox/Programming/detectors/images/2019_08_11_08h11m07s/00125.png'), PosixPath('/Users/elijah/Dropbox/Programming/detectors/images/2019_08_11_08h11m07s/00126.png'), PosixPath('/Users/elijah/Dropbox/Programming/detectors/images/2019_08_11_08h11m07s/00127.png'), PosixPath('/Users/elijah/Dropbox/Programming/detectors/images/2019_08_11_08h11m07s/00128.png'), PosixPath('/Users/elijah/Dropbox/Programming/detectors/images/2019_08_11_08h11m07s/00129.png'), PosixPath('/Users/elijah/Dropbox/Programming/detectors/images/2019_08_11_08h11m07s/00130.png'), PosixPath('/Users/elijah/Dropbox/Programming/detectors/images/2019_08_11_08h11m07s/00131.png'), PosixPath('/Users/elijah/Dropbox/Programming/detectors/images/2019_08_11_08h11m07s/00132.png'), PosixPath('/Users/elijah/Dropbox/Programming/detectors/images/2019_08_11_08h11m07s/00133.png'), PosixPath('/Users/elijah/Dropbox/Programming/detectors/images/2019_08_11_08h11m07s/00134.png'), PosixPath('/Users/elijah/Dropbox/Programming/detectors/images/2019_08_11_08h11m07s/00135.png'), PosixPath('/Users/elijah/Dropbox/Programming/detectors/images/2019_08_11_08h11m07s/00136.png'), PosixPath('/Users/elijah/Dropbox/Programming/detectors/images/2019_08_11_08h11m07s/00137.png'), PosixPath('/Users/elijah/Dropbox/Programming/detectors/images/2019_08_11_08h11m07s/00138.png'), PosixPath('/Users/elijah/Dropbox/Programming/detectors/images/2019_08_11_08h11m07s/00139.png'), PosixPath('/Users/elijah/Dropbox/Programming/detectors/images/2019_08_11_08h11m07s/00140.png'), PosixPath('/Users/elijah/Dropbox/Programming/detectors/images/2019_08_11_08h11m07s/00141.png'), PosixPath('/Users/elijah/Dropbox/Programming/detectors/images/2019_08_11_08h11m07s/00142.png'), PosixPath('/Users/elijah/Dropbox/Programming/detectors/images/2019_08_11_08h11m07s/00143.png'), PosixPath('/Users/elijah/Dropbox/Programming/detectors/images/2019_08_11_08h11m07s/00144.png'), PosixPath('/Users/elijah/Dropbox/Programming/detectors/images/2019_08_11_08h11m07s/00145.png'), PosixPath('/Users/elijah/Dropbox/Programming/detectors/images/2019_08_11_08h11m07s/00146.png'), PosixPath('/Users/elijah/Dropbox/Programming/detectors/images/2019_08_11_08h11m07s/00147.png'), PosixPath('/Users/elijah/Dropbox/Programming/detectors/images/2019_08_11_08h11m07s/00148.png'), PosixPath('/Users/elijah/Dropbox/Programming/detectors/images/2019_08_11_08h11m07s/00149.png'), PosixPath('/Users/elijah/Dropbox/Programming/detectors/images/2019_08_11_08h11m07s/00150.png')]\n"
     ]
    }
   ],
   "source": [
    "from pathlib import Path\n",
    "\n",
    "files = sorted (Path (\"/Users/elijah/Dropbox/Programming/detectors/images/2019_08_11_08h11m07s/\").glob('**/*.png'))\n",
    "\n",
    "print (files)"
   ]
  },
  {
   "cell_type": "code",
   "execution_count": null,
   "metadata": {},
   "outputs": [],
   "source": []
  }
 ],
 "metadata": {
  "kernelspec": {
   "display_name": "Python 3",
   "language": "python",
   "name": "python3"
  },
  "language_info": {
   "codemirror_mode": {
    "name": "ipython",
    "version": 3
   },
   "file_extension": ".py",
   "mimetype": "text/x-python",
   "name": "python",
   "nbconvert_exporter": "python",
   "pygments_lexer": "ipython3",
   "version": "3.7.3"
  }
 },
 "nbformat": 4,
 "nbformat_minor": 2
}
